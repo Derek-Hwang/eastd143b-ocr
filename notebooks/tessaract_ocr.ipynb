{
 "cells": [
  {
   "attachments": {},
   "cell_type": "markdown",
   "metadata": {},
   "source": [
    "# EASTD143A: Digitalizing old materials with OCR\n",
    "Date: 2023-03-23 15:45\n",
    "\n",
    "Instructor: Kwok-leong Tang\n"
   ]
  },
  {
   "attachments": {},
   "cell_type": "markdown",
   "metadata": {},
   "source": [
    "## Install Tesseract OCR\n",
    "Tesseract OCR documentation: https://tesseract-ocr.github.io/\n",
    "\n",
    "Open your terminal, paste the following command:\n",
    "\n",
    "`sudo apt-get update && sudo apt-get install tesseract-ocr && sudo apt-get install -y tesseract-ocr-eng tesseract-ocr-chi-sim tesseract-ocr-jpn tesseract-ocr-kor\n",
    "`\n"
   ]
  },
  {
   "attachments": {},
   "cell_type": "markdown",
   "metadata": {},
   "source": [
    "## Install the required Python libraries:\n",
    "\n",
    "pytesseract documentation: https://github.com/madmaze/pytesseract\n",
    "opencv documentation: https://docs.opencv.org/4.x/d6/d00/tutorial_py_root.html\n"
   ]
  },
  {
   "cell_type": "code",
   "execution_count": null,
   "metadata": {
    "vscode": {
     "languageId": "shellscript"
    }
   },
   "outputs": [],
   "source": [
    "pip install pytesseract opencv-python"
   ]
  },
  {
   "cell_type": "code",
   "execution_count": null,
   "metadata": {},
   "outputs": [],
   "source": [
    "# import cv2 and pytesseract\n",
    "\n",
    "import cv2\n",
    "import pytesseract"
   ]
  },
  {
   "cell_type": "code",
   "execution_count": null,
   "metadata": {},
   "outputs": [],
   "source": [
    "# import matplotlib & pandas\n",
    "# for matplotlib documentation: https://matplotlib.org/stable/users/index.html\n",
    "# for pandas documentation: https://pandas.pydata.org/docs/user_guide/index.html\n",
    "\n",
    "import matplotlib.pyplot as plt\n",
    "import pandas as pd"
   ]
  },
  {
   "cell_type": "code",
   "execution_count": null,
   "metadata": {},
   "outputs": [],
   "source": [
    "# read the image by using cv2.imread()\n",
    "\n",
    "image = cv2.imread(\n",
    "    '/workspaces/eastd143a-ocr/data/images/1c_1l_01.png')\n"
   ]
  },
  {
   "cell_type": "code",
   "execution_count": null,
   "metadata": {},
   "outputs": [],
   "source": [
    "# set the langauge variable\n",
    "# for multiple languages use + sign, e.g. lang = 'eng+chi_tra+chi_sim'\n",
    "\n",
    "lang = 'eng' "
   ]
  },
  {
   "cell_type": "code",
   "execution_count": null,
   "metadata": {},
   "outputs": [],
   "source": [
    "# extract the text and put it in a variable\n",
    "\n",
    "extracted_text = pytesseract.image_to_string(image, lang=lang)"
   ]
  },
  {
   "cell_type": "code",
   "execution_count": null,
   "metadata": {},
   "outputs": [],
   "source": [
    "# print the text\n",
    "\n",
    "print(extracted_text)"
   ]
  },
  {
   "cell_type": "code",
   "execution_count": null,
   "metadata": {},
   "outputs": [],
   "source": [
    "def draw_boxes(image, boxes, color, thickness):\n",
    "    for box in boxes:\n",
    "        x, y, w, h = box\n",
    "        cv2.rectangle(image, (x, y), (x + w, y + h), color, thickness)\n",
    "    return image"
   ]
  },
  {
   "cell_type": "code",
   "execution_count": null,
   "metadata": {},
   "outputs": [],
   "source": [
    "def plot_characters(image_path):\n",
    "    # Load the image using OpenCV\n",
    "    image = cv2.imread(image_path)\n",
    "    original_image = image.copy()\n",
    "\n",
    "    # Set the language for OCR (e.g., 'chi_sim' for simplified Chinese, 'jpn' for Japanese, 'kor' for Korean)\n",
    "    lang = \"eng\"\n",
    "\n",
    "    # Perform OCR using Tesseract\n",
    "    extracted_text = pytesseract.image_to_string(image, lang=lang)\n",
    "\n",
    "    # Get character/word bounding boxes\n",
    "    boxes = pytesseract.image_to_boxes(image, lang=lang)\n",
    "    box_list = []\n",
    "\n",
    "    for b in boxes.splitlines():\n",
    "        elements = b.split()\n",
    "        x, y, w, h = int(elements[1]), int(\n",
    "            elements[2]), int(elements[3]), int(elements[4])\n",
    "        box_list.append((x, image.shape[0] - y, w - x, y - h))\n",
    "\n",
    "    # Draw green boxes around each detected character/word\n",
    "    boxed_image = draw_boxes(original_image, box_list,\n",
    "                             color=(0, 255, 0), thickness=2)\n",
    "\n",
    "    # Convert the boxed_image from BGR to RGB\n",
    "    boxed_image_rgb = cv2.cvtColor(boxed_image, cv2.COLOR_BGR2RGB)\n",
    "\n",
    "    # Display the boxed image using pyplot\n",
    "    plt.figure(figsize=(16, 10))\n",
    "    plt.imshow(boxed_image_rgb)\n",
    "    plt.xticks([]), plt.yticks([])  # to hide tick values on X and Y axis\n",
    "    plt.show()\n",
    "\n",
    "    # Print the extracted text\n",
    "    print(\"Extracted Text:\")\n",
    "    print(extracted_text)\n"
   ]
  },
  {
   "cell_type": "code",
   "execution_count": null,
   "metadata": {},
   "outputs": [],
   "source": [
    "plot_characters('/workspaces/eastd143a-ocr/data/images/1c_1l_01.png')"
   ]
  },
  {
   "cell_type": "code",
   "execution_count": null,
   "metadata": {},
   "outputs": [],
   "source": [
    "def confindence_rate(image_path):\n",
    "    # Load the image using OpenCV\n",
    "    image = cv2.imread(image_path)\n",
    "\n",
    "    # Set the language for OCR (e.g., 'chi_sim' for simplified Chinese, 'jpn' for Japanese, 'kor' for Korean)\n",
    "    lang = \"eng\"\n",
    "\n",
    "    # Perform OCR using Tesseract and obtain character data\n",
    "    data = pytesseract.image_to_data(\n",
    "        image, lang=lang, output_type=pytesseract.Output.DATAFRAME)\n",
    "\n",
    "    # Filter out rows with empty text\n",
    "    data = data[data['text'].notnull()]\n",
    "\n",
    "    # Iterate through each row and print the character along with its confidence level\n",
    "    for index, row in data.iterrows():\n",
    "        char = row['text']\n",
    "        conf = row['conf']\n",
    "        print(f\"Character: {char}, Confidence: {conf}\")\n"
   ]
  },
  {
   "cell_type": "code",
   "execution_count": null,
   "metadata": {},
   "outputs": [],
   "source": [
    "confindence_rate('/workspaces/eastd143a-ocr/data/images/1c_1l_01.png')"
   ]
  }
 ],
 "metadata": {
  "kernelspec": {
   "display_name": "Python 3",
   "language": "python",
   "name": "python3"
  },
  "language_info": {
   "codemirror_mode": {
    "name": "ipython",
    "version": 3
   },
   "file_extension": ".py",
   "mimetype": "text/x-python",
   "name": "python",
   "nbconvert_exporter": "python",
   "pygments_lexer": "ipython3",
   "version": "3.10.4"
  },
  "orig_nbformat": 4
 },
 "nbformat": 4,
 "nbformat_minor": 2
}
