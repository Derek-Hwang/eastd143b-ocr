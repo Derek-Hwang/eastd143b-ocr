{
 "cells": [
  {
   "attachments": {},
   "cell_type": "markdown",
   "metadata": {},
   "source": [
    "# EASTD143A: Digitalizing old materials with OCR\n",
    "Date: 2023-03-23 15:45\n",
    "\n",
    "Instructor: Kwok-leong Tang\n"
   ]
  },
  {
   "attachments": {},
   "cell_type": "markdown",
   "metadata": {},
   "source": [
    "## Install Tesseract OCR\n",
    "Tesseract OCR documentation: https://tesseract-ocr.github.io/\n",
    "\n",
    "Open your terminal, paste the following command:\n",
    "\n",
    "`sudo apt-get update && sudo apt-get install tesseract-ocr && sudo apt-get install -y tesseract-ocr-eng tesseract-ocr-chi-sim tesseract-ocr-jpn tesseract-ocr-kor\n",
    "`\n"
   ]
  },
  {
   "attachments": {},
   "cell_type": "markdown",
   "metadata": {},
   "source": [
    "## Install the required Python libraries:\n",
    "\n",
    "pytesseract documentation: https://github.com/madmaze/pytesseract\n",
    "opencv documentation: https://docs.opencv.org/4.x/d6/d00/tutorial_py_root.html\n"
   ]
  },
  {
   "cell_type": "code",
   "execution_count": 34,
   "metadata": {
    "vscode": {
     "languageId": "shellscript"
    }
   },
   "outputs": [
    {
     "name": "stdout",
     "output_type": "stream",
     "text": [
      "Requirement already satisfied: pytesseract in /usr/local/python/3.10.4/lib/python3.10/site-packages (0.3.10)\n",
      "Requirement already satisfied: opencv-python in /usr/local/python/3.10.4/lib/python3.10/site-packages (4.7.0.72)\n",
      "Requirement already satisfied: packaging>=21.3 in /home/codespace/.local/lib/python3.10/site-packages (from pytesseract) (23.0)\n",
      "Requirement already satisfied: Pillow>=8.0.0 in /home/codespace/.local/lib/python3.10/site-packages (from pytesseract) (9.4.0)\n",
      "Requirement already satisfied: numpy>=1.19.3 in /home/codespace/.local/lib/python3.10/site-packages (from opencv-python) (1.24.2)\n",
      "Note: you may need to restart the kernel to use updated packages.\n"
     ]
    }
   ],
   "source": [
    "pip install pytesseract opencv-python"
   ]
  },
  {
   "cell_type": "code",
   "execution_count": 35,
   "metadata": {},
   "outputs": [],
   "source": [
    "# import cv2 and pytesseract\n",
    "\n",
    "import cv2\n",
    "import pytesseract"
   ]
  },
  {
   "cell_type": "code",
   "execution_count": 36,
   "metadata": {},
   "outputs": [],
   "source": [
    "# import matplotlib & pandas\n",
    "# for matplotlib documentation: https://matplotlib.org/stable/users/index.html\n",
    "# for pandas documentation: https://pandas.pydata.org/docs/user_guide/index.html\n",
    "\n",
    "import matplotlib.pyplot as plt\n",
    "import pandas as pd"
   ]
  },
  {
   "cell_type": "code",
   "execution_count": 37,
   "metadata": {},
   "outputs": [],
   "source": [
    "# read the image by using cv2.imread()\n",
    "\n",
    "image = cv2.imread(\n",
    "    '/workspaces/eastd143a-ocr/data/images/1c_1l_01.png')\n"
   ]
  },
  {
   "cell_type": "code",
   "execution_count": null,
   "metadata": {},
   "outputs": [],
   "source": [
    "# set the langauge variable\n",
    "# for multiple languages use + sign, e.g. lang = 'eng+chi_tra+chi_sim'\n",
    "\n",
    "lang = 'eng' "
   ]
  },
  {
   "cell_type": "code",
   "execution_count": null,
   "metadata": {},
   "outputs": [],
   "source": [
    "# extract the text and put it in a variable\n",
    "\n",
    "extracted_text = pytesseract.image_to_string(image, lang=lang)"
   ]
  },
  {
   "cell_type": "code",
   "execution_count": null,
   "metadata": {},
   "outputs": [],
   "source": [
    "# print the text\n",
    "\n",
    "print(extracted_text)"
   ]
  },
  {
   "cell_type": "code",
   "execution_count": null,
   "metadata": {},
   "outputs": [],
   "source": [
    "def draw_boxes(image, boxes, color, thickness):\n",
    "    for box in boxes:\n",
    "        x, y, w, h = box\n",
    "        cv2.rectangle(image, (x, y), (x + w, y + h), color, thickness)\n",
    "    return image"
   ]
  },
  {
   "cell_type": "code",
   "execution_count": null,
   "metadata": {},
   "outputs": [],
   "source": [
    "def plot_characters(image_path):\n",
    "    # Load the image using OpenCV\n",
    "    image = cv2.imread(image_path)\n",
    "    original_image = image.copy()\n",
    "\n",
    "    # Set the language for OCR (e.g., 'chi_sim' for simplified Chinese, 'jpn' for Japanese, 'kor' for Korean)\n",
    "    lang = \"eng\"\n",
    "\n",
    "    # Perform OCR using Tesseract\n",
    "    extracted_text = pytesseract.image_to_string(image, lang=lang)\n",
    "\n",
    "    # Get character/word bounding boxes\n",
    "    boxes = pytesseract.image_to_boxes(image, lang=lang)\n",
    "    box_list = []\n",
    "\n",
    "    for b in boxes.splitlines():\n",
    "        elements = b.split()\n",
    "        x, y, w, h = int(elements[1]), int(\n",
    "            elements[2]), int(elements[3]), int(elements[4])\n",
    "        box_list.append((x, image.shape[0] - y, w - x, y - h))\n",
    "\n",
    "    # Draw green boxes around each detected character/word\n",
    "    boxed_image = draw_boxes(original_image, box_list,\n",
    "                             color=(0, 255, 0), thickness=2)\n",
    "\n",
    "    # Convert the boxed_image from BGR to RGB\n",
    "    boxed_image_rgb = cv2.cvtColor(boxed_image, cv2.COLOR_BGR2RGB)\n",
    "\n",
    "    # Display the boxed image using pyplot\n",
    "    plt.figure(figsize=(16, 10))\n",
    "    plt.imshow(boxed_image_rgb)\n",
    "    plt.xticks([]), plt.yticks([])  # to hide tick values on X and Y axis\n",
    "    plt.show()\n",
    "\n",
    "    # Print the extracted text\n",
    "    print(\"Extracted Text:\")\n",
    "    print(extracted_text)\n"
   ]
  },
  {
   "cell_type": "code",
   "execution_count": null,
   "metadata": {},
   "outputs": [],
   "source": [
    "plot_characters('/workspaces/eastd143a-ocr/data/images/1c_1l_01.png')"
   ]
  },
  {
   "cell_type": "code",
   "execution_count": 42,
   "metadata": {},
   "outputs": [],
   "source": [
    "def confindence_rate(image_path):\n",
    "    # Load the image using OpenCV\n",
    "    image = cv2.imread(image_path)\n",
    "\n",
    "    # Set the language for OCR (e.g., 'chi_sim' for simplified Chinese, 'jpn' for Japanese, 'kor' for Korean)\n",
    "    lang = \"eng\"\n",
    "\n",
    "    # Perform OCR using Tesseract and obtain character data\n",
    "    data = pytesseract.image_to_data(\n",
    "        image, lang=lang, output_type=pytesseract.Output.DATAFRAME)\n",
    "\n",
    "    # Filter out rows with empty text\n",
    "    data = data[data['text'].notnull()]\n",
    "\n",
    "    # Iterate through each row and print the character along with its confidence level\n",
    "    for index, row in data.iterrows():\n",
    "        char = row['text']\n",
    "        conf = row['conf']\n",
    "        print(f\"Character: {char}, Confidence: {conf}\")\n"
   ]
  },
  {
   "cell_type": "code",
   "execution_count": 44,
   "metadata": {},
   "outputs": [
    {
     "ename": "TesseractNotFoundError",
     "evalue": "C:\\Program Files\\Tesseract-OCR\\tesseract.exe is not installed or it's not in your PATH. See README file for more information.",
     "output_type": "error",
     "traceback": [
      "\u001b[0;31m---------------------------------------------------------------------------\u001b[0m",
      "\u001b[0;31mFileNotFoundError\u001b[0m                         Traceback (most recent call last)",
      "File \u001b[0;32m~/.python/current/lib/python3.10/site-packages/pytesseract/pytesseract.py:388\u001b[0m, in \u001b[0;36mget_tesseract_version\u001b[0;34m()\u001b[0m\n\u001b[1;32m    387\u001b[0m \u001b[39mtry\u001b[39;00m:\n\u001b[0;32m--> 388\u001b[0m     output \u001b[39m=\u001b[39m subprocess\u001b[39m.\u001b[39;49mcheck_output(\n\u001b[1;32m    389\u001b[0m         [tesseract_cmd, \u001b[39m'\u001b[39;49m\u001b[39m--version\u001b[39;49m\u001b[39m'\u001b[39;49m],\n\u001b[1;32m    390\u001b[0m         stderr\u001b[39m=\u001b[39;49msubprocess\u001b[39m.\u001b[39;49mSTDOUT,\n\u001b[1;32m    391\u001b[0m         env\u001b[39m=\u001b[39;49menviron,\n\u001b[1;32m    392\u001b[0m         stdin\u001b[39m=\u001b[39;49msubprocess\u001b[39m.\u001b[39;49mDEVNULL,\n\u001b[1;32m    393\u001b[0m     )\n\u001b[1;32m    394\u001b[0m \u001b[39mexcept\u001b[39;00m \u001b[39mOSError\u001b[39;00m:\n",
      "File \u001b[0;32m~/.python/current/lib/python3.10/subprocess.py:420\u001b[0m, in \u001b[0;36mcheck_output\u001b[0;34m(timeout, *popenargs, **kwargs)\u001b[0m\n\u001b[1;32m    418\u001b[0m     kwargs[\u001b[39m'\u001b[39m\u001b[39minput\u001b[39m\u001b[39m'\u001b[39m] \u001b[39m=\u001b[39m empty\n\u001b[0;32m--> 420\u001b[0m \u001b[39mreturn\u001b[39;00m run(\u001b[39m*\u001b[39;49mpopenargs, stdout\u001b[39m=\u001b[39;49mPIPE, timeout\u001b[39m=\u001b[39;49mtimeout, check\u001b[39m=\u001b[39;49m\u001b[39mTrue\u001b[39;49;00m,\n\u001b[1;32m    421\u001b[0m            \u001b[39m*\u001b[39;49m\u001b[39m*\u001b[39;49mkwargs)\u001b[39m.\u001b[39mstdout\n",
      "File \u001b[0;32m~/.python/current/lib/python3.10/subprocess.py:501\u001b[0m, in \u001b[0;36mrun\u001b[0;34m(input, capture_output, timeout, check, *popenargs, **kwargs)\u001b[0m\n\u001b[1;32m    499\u001b[0m     kwargs[\u001b[39m'\u001b[39m\u001b[39mstderr\u001b[39m\u001b[39m'\u001b[39m] \u001b[39m=\u001b[39m PIPE\n\u001b[0;32m--> 501\u001b[0m \u001b[39mwith\u001b[39;00m Popen(\u001b[39m*\u001b[39;49mpopenargs, \u001b[39m*\u001b[39;49m\u001b[39m*\u001b[39;49mkwargs) \u001b[39mas\u001b[39;00m process:\n\u001b[1;32m    502\u001b[0m     \u001b[39mtry\u001b[39;00m:\n",
      "File \u001b[0;32m~/.python/current/lib/python3.10/subprocess.py:966\u001b[0m, in \u001b[0;36mPopen.__init__\u001b[0;34m(self, args, bufsize, executable, stdin, stdout, stderr, preexec_fn, close_fds, shell, cwd, env, universal_newlines, startupinfo, creationflags, restore_signals, start_new_session, pass_fds, user, group, extra_groups, encoding, errors, text, umask, pipesize)\u001b[0m\n\u001b[1;32m    963\u001b[0m             \u001b[39mself\u001b[39m\u001b[39m.\u001b[39mstderr \u001b[39m=\u001b[39m io\u001b[39m.\u001b[39mTextIOWrapper(\u001b[39mself\u001b[39m\u001b[39m.\u001b[39mstderr,\n\u001b[1;32m    964\u001b[0m                     encoding\u001b[39m=\u001b[39mencoding, errors\u001b[39m=\u001b[39merrors)\n\u001b[0;32m--> 966\u001b[0m     \u001b[39mself\u001b[39;49m\u001b[39m.\u001b[39;49m_execute_child(args, executable, preexec_fn, close_fds,\n\u001b[1;32m    967\u001b[0m                         pass_fds, cwd, env,\n\u001b[1;32m    968\u001b[0m                         startupinfo, creationflags, shell,\n\u001b[1;32m    969\u001b[0m                         p2cread, p2cwrite,\n\u001b[1;32m    970\u001b[0m                         c2pread, c2pwrite,\n\u001b[1;32m    971\u001b[0m                         errread, errwrite,\n\u001b[1;32m    972\u001b[0m                         restore_signals,\n\u001b[1;32m    973\u001b[0m                         gid, gids, uid, umask,\n\u001b[1;32m    974\u001b[0m                         start_new_session)\n\u001b[1;32m    975\u001b[0m \u001b[39mexcept\u001b[39;00m:\n\u001b[1;32m    976\u001b[0m     \u001b[39m# Cleanup if the child failed starting.\u001b[39;00m\n",
      "File \u001b[0;32m~/.python/current/lib/python3.10/subprocess.py:1842\u001b[0m, in \u001b[0;36mPopen._execute_child\u001b[0;34m(self, args, executable, preexec_fn, close_fds, pass_fds, cwd, env, startupinfo, creationflags, shell, p2cread, p2cwrite, c2pread, c2pwrite, errread, errwrite, restore_signals, gid, gids, uid, umask, start_new_session)\u001b[0m\n\u001b[1;32m   1841\u001b[0m         err_msg \u001b[39m=\u001b[39m os\u001b[39m.\u001b[39mstrerror(errno_num)\n\u001b[0;32m-> 1842\u001b[0m     \u001b[39mraise\u001b[39;00m child_exception_type(errno_num, err_msg, err_filename)\n\u001b[1;32m   1843\u001b[0m \u001b[39mraise\u001b[39;00m child_exception_type(err_msg)\n",
      "\u001b[0;31mFileNotFoundError\u001b[0m: [Errno 2] No such file or directory: 'C:\\\\Program Files\\\\Tesseract-OCR\\\\tesseract.exe'",
      "\nDuring handling of the above exception, another exception occurred:\n",
      "\u001b[0;31mTesseractNotFoundError\u001b[0m                    Traceback (most recent call last)",
      "Cell \u001b[0;32mIn[44], line 1\u001b[0m\n\u001b[0;32m----> 1\u001b[0m confindence_rate(\u001b[39m'\u001b[39;49m\u001b[39m/workspaces/eastd143a-ocr/data/images/1c_1l_01.png\u001b[39;49m\u001b[39m'\u001b[39;49m)\n",
      "Cell \u001b[0;32mIn[42], line 9\u001b[0m, in \u001b[0;36mconfindence_rate\u001b[0;34m(image_path)\u001b[0m\n\u001b[1;32m      6\u001b[0m lang \u001b[39m=\u001b[39m \u001b[39m\"\u001b[39m\u001b[39meng\u001b[39m\u001b[39m\"\u001b[39m\n\u001b[1;32m      8\u001b[0m \u001b[39m# Perform OCR using Tesseract and obtain character data\u001b[39;00m\n\u001b[0;32m----> 9\u001b[0m data \u001b[39m=\u001b[39m pytesseract\u001b[39m.\u001b[39;49mimage_to_data(\n\u001b[1;32m     10\u001b[0m     image, lang\u001b[39m=\u001b[39;49mlang, output_type\u001b[39m=\u001b[39;49mpytesseract\u001b[39m.\u001b[39;49mOutput\u001b[39m.\u001b[39;49mDATAFRAME)\n\u001b[1;32m     12\u001b[0m \u001b[39m# Filter out rows with empty text\u001b[39;00m\n\u001b[1;32m     13\u001b[0m data \u001b[39m=\u001b[39m data[data[\u001b[39m'\u001b[39m\u001b[39mtext\u001b[39m\u001b[39m'\u001b[39m]\u001b[39m.\u001b[39mnotnull()]\n",
      "File \u001b[0;32m~/.python/current/lib/python3.10/site-packages/pytesseract/pytesseract.py:521\u001b[0m, in \u001b[0;36mimage_to_data\u001b[0;34m(image, lang, config, nice, output_type, timeout, pandas_config)\u001b[0m\n\u001b[1;32m    507\u001b[0m \u001b[39mdef\u001b[39;00m \u001b[39mimage_to_data\u001b[39m(\n\u001b[1;32m    508\u001b[0m     image,\n\u001b[1;32m    509\u001b[0m     lang\u001b[39m=\u001b[39m\u001b[39mNone\u001b[39;00m,\n\u001b[0;32m   (...)\u001b[0m\n\u001b[1;32m    514\u001b[0m     pandas_config\u001b[39m=\u001b[39m\u001b[39mNone\u001b[39;00m,\n\u001b[1;32m    515\u001b[0m ):\n\u001b[1;32m    516\u001b[0m \u001b[39m    \u001b[39m\u001b[39m\"\"\"\u001b[39;00m\n\u001b[1;32m    517\u001b[0m \u001b[39m    Returns string containing box boundaries, confidences,\u001b[39;00m\n\u001b[1;32m    518\u001b[0m \u001b[39m    and other information. Requires Tesseract 3.05+\u001b[39;00m\n\u001b[1;32m    519\u001b[0m \u001b[39m    \"\"\"\u001b[39;00m\n\u001b[0;32m--> 521\u001b[0m     \u001b[39mif\u001b[39;00m get_tesseract_version() \u001b[39m<\u001b[39m TESSERACT_MIN_VERSION:\n\u001b[1;32m    522\u001b[0m         \u001b[39mraise\u001b[39;00m TSVNotSupported()\n\u001b[1;32m    524\u001b[0m     config \u001b[39m=\u001b[39m \u001b[39mf\u001b[39m\u001b[39m'\u001b[39m\u001b[39m-c tessedit_create_tsv=1 \u001b[39m\u001b[39m{\u001b[39;00mconfig\u001b[39m.\u001b[39mstrip()\u001b[39m}\u001b[39;00m\u001b[39m'\u001b[39m\n",
      "File \u001b[0;32m~/.python/current/lib/python3.10/site-packages/pytesseract/pytesseract.py:146\u001b[0m, in \u001b[0;36mrun_once.<locals>.wrapper\u001b[0;34m(*args, **kwargs)\u001b[0m\n\u001b[1;32m    143\u001b[0m \u001b[39m@wraps\u001b[39m(func)\n\u001b[1;32m    144\u001b[0m \u001b[39mdef\u001b[39;00m \u001b[39mwrapper\u001b[39m(\u001b[39m*\u001b[39margs, \u001b[39m*\u001b[39m\u001b[39m*\u001b[39mkwargs):\n\u001b[1;32m    145\u001b[0m     \u001b[39mif\u001b[39;00m wrapper\u001b[39m.\u001b[39m_result \u001b[39mis\u001b[39;00m wrapper:\n\u001b[0;32m--> 146\u001b[0m         wrapper\u001b[39m.\u001b[39m_result \u001b[39m=\u001b[39m func(\u001b[39m*\u001b[39;49margs, \u001b[39m*\u001b[39;49m\u001b[39m*\u001b[39;49mkwargs)\n\u001b[1;32m    147\u001b[0m     \u001b[39mreturn\u001b[39;00m wrapper\u001b[39m.\u001b[39m_result\n",
      "File \u001b[0;32m~/.python/current/lib/python3.10/site-packages/pytesseract/pytesseract.py:395\u001b[0m, in \u001b[0;36mget_tesseract_version\u001b[0;34m()\u001b[0m\n\u001b[1;32m    388\u001b[0m     output \u001b[39m=\u001b[39m subprocess\u001b[39m.\u001b[39mcheck_output(\n\u001b[1;32m    389\u001b[0m         [tesseract_cmd, \u001b[39m'\u001b[39m\u001b[39m--version\u001b[39m\u001b[39m'\u001b[39m],\n\u001b[1;32m    390\u001b[0m         stderr\u001b[39m=\u001b[39msubprocess\u001b[39m.\u001b[39mSTDOUT,\n\u001b[1;32m    391\u001b[0m         env\u001b[39m=\u001b[39menviron,\n\u001b[1;32m    392\u001b[0m         stdin\u001b[39m=\u001b[39msubprocess\u001b[39m.\u001b[39mDEVNULL,\n\u001b[1;32m    393\u001b[0m     )\n\u001b[1;32m    394\u001b[0m \u001b[39mexcept\u001b[39;00m \u001b[39mOSError\u001b[39;00m:\n\u001b[0;32m--> 395\u001b[0m     \u001b[39mraise\u001b[39;00m TesseractNotFoundError()\n\u001b[1;32m    397\u001b[0m raw_version \u001b[39m=\u001b[39m output\u001b[39m.\u001b[39mdecode(DEFAULT_ENCODING)\n\u001b[1;32m    398\u001b[0m str_version, \u001b[39m*\u001b[39m_ \u001b[39m=\u001b[39m raw_version\u001b[39m.\u001b[39mlstrip(string\u001b[39m.\u001b[39mprintable[\u001b[39m10\u001b[39m:])\u001b[39m.\u001b[39mpartition(\u001b[39m'\u001b[39m\u001b[39m \u001b[39m\u001b[39m'\u001b[39m)\n",
      "\u001b[0;31mTesseractNotFoundError\u001b[0m: C:\\Program Files\\Tesseract-OCR\\tesseract.exe is not installed or it's not in your PATH. See README file for more information."
     ]
    }
   ],
   "source": [
    "confindence_rate('/workspaces/eastd143a-ocr/data/images/1c_1l_01.png')"
   ]
  }
 ],
 "metadata": {
  "kernelspec": {
   "display_name": "Python 3",
   "language": "python",
   "name": "python3"
  },
  "language_info": {
   "codemirror_mode": {
    "name": "ipython",
    "version": 3
   },
   "file_extension": ".py",
   "mimetype": "text/x-python",
   "name": "python",
   "nbconvert_exporter": "python",
   "pygments_lexer": "ipython3",
   "version": "3.10.4"
  },
  "orig_nbformat": 4
 },
 "nbformat": 4,
 "nbformat_minor": 2
}
